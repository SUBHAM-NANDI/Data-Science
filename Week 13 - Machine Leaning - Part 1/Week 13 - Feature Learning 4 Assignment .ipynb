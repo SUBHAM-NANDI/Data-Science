{
 "cells": [
  {
   "cell_type": "code",
   "execution_count": 1,
   "id": "be059add-0124-4068-bab8-9b29d70c207f",
   "metadata": {},
   "outputs": [],
   "source": [
    "# Q1. What is the difference between Ordinal Encoding and Label Encoding? \n",
    "# Provide an example of when you might choose one over the other.\n",
    "\n",
    "# Ordinal encoding and label encoding are both methods used to convert\n",
    "# categorical data into numerical format. However, they are used in different scenarios:\n",
    "\n",
    "# Label Encoding: In label encoding, each category is assigned a unique integer. \n",
    "# This method is suitable when there is no intrinsic order or hierarchy among \n",
    "# the categories. For example, when encoding colors [\"Red\", \"Green\", \"Blue\"], \n",
    "# label encoding might assign [\"Red\"=0, \"Green\"=1, \"Blue\"=2].\n",
    "\n",
    "# Ordinal Encoding: Ordinal encoding is used when the categorical data has a specific\n",
    "# order or hierarchy. For instance, education levels [\"High School\", \n",
    "# \"Bachelor's\", \"Master's\", \"PhD\"] have a clear order from lower to higher education.\n",
    "\n",
    "# You would choose label encoding when categories are unordered, and you would choose \n",
    "# ordinal encoding when categories have a meaningful order.\n"
   ]
  },
  {
   "cell_type": "code",
   "execution_count": 2,
   "id": "aac62530-ad25-4001-a8b7-ca4d5e80a2e7",
   "metadata": {},
   "outputs": [],
   "source": [
    "# Q2. Explain how Target Guided Ordinal Encoding works and provide an example \n",
    "# of when you might use it in a machine learning project.\n",
    "\n",
    "# Target Guided Ordinal Encoding is a technique that combines the principles\n",
    "# of ordinal encoding with the target variable to assign ordinal values to categories\n",
    "# based on their relationship with the target variable. It helps capture the target \n",
    "# variable's impact on the categorical feature while preserving the ordinal relationship.\n",
    "\n",
    "# Example: Suppose you're working on a credit risk prediction project. \n",
    "# You have a categorical feature \"Credit Score\" with values [\"Low\", \"Medium\", \"High\"]. \n",
    "# Instead of assigning arbitrary ordinal values, you could use target guided ordinal encoding.\n",
    "# For each category, you calculate the mean default rate (or any relevant metric) and \n",
    "# rank the categories accordingly. So, if the default rates are \n",
    "# [\"Low\"=0.1, \"Medium\"=0.3, \"High\"=0.7], you could assign [\"Low\"=0, \"Medium\"=1, \"High\"=2].\n"
   ]
  },
  {
   "cell_type": "code",
   "execution_count": 3,
   "id": "9d747de1-9884-4d5c-9ec0-66f0d7859dd6",
   "metadata": {},
   "outputs": [],
   "source": [
    "# Q3. Define covariance and explain why it is important in statistical analysis.\n",
    "# How is covariance calculated?\n",
    "\n",
    "# Covariance is a statistical measure that indicates how two random variables \n",
    "# change together. It measures the degree to which the variables tend to increase\n",
    "# or decrease simultaneously. A positive covariance indicates that the variables move\n",
    "# in the same direction, while a negative covariance indicates they move in opposite directions.\n",
    "\n",
    "# Covariance is important because it helps understand the relationship between variables. \n",
    "# It's a fundamental concept in statistics and plays a key role in portfolio theory,\n",
    "# risk assessment, and data analysis.\n",
    "\n",
    "# Mathematically, the covariance between two variables X and Y is calculated as:\n",
    "\n",
    "# Cov(X, Y) = Σ((X_i - μ_X) * (Y_i - μ_Y)) / (n - 1)\n",
    "\n",
    "# Where:\n",
    "\n",
    "# X_i and Y_i are individual data points of X and Y.\n",
    "# μ_X and μ_Y are the means of X and Y.\n",
    "# n is the number of data points.\n"
   ]
  },
  {
   "cell_type": "code",
   "execution_count": 4,
   "id": "a74534ab-4abf-4c43-bc3b-7edda59a1bc2",
   "metadata": {},
   "outputs": [
    {
     "name": "stdout",
     "output_type": "stream",
     "text": [
      "[array([2, 0, 1]), array([1, 2, 0]), array([0, 2, 1])]\n"
     ]
    }
   ],
   "source": [
    "# Q4. For a dataset with the following categorical variables: Color (red, green, blue),\n",
    "# Size (small, medium, large), and Material (wood, metal, plastic), perform \n",
    "# label encoding using Python's scikit-learn library. Show your code and explain the output.\n",
    "\n",
    "from sklearn.preprocessing import LabelEncoder\n",
    "\n",
    "data = [\n",
    "    [\"red\", \"medium\", \"metal\"],\n",
    "    [\"blue\", \"small\", \"wood\"],\n",
    "    [\"green\", \"large\", \"plastic\"]\n",
    "]\n",
    "\n",
    "encoder = LabelEncoder()\n",
    "\n",
    "encoded_data = []\n",
    "for column in range(len(data[0])):\n",
    "    encoded_column = encoder.fit_transform([row[column] for row in data])\n",
    "    encoded_data.append(encoded_column)\n",
    "\n",
    "print(encoded_data)\n"
   ]
  },
  {
   "cell_type": "code",
   "execution_count": 5,
   "id": "d1839301-934b-448e-b8e1-74954838fd40",
   "metadata": {},
   "outputs": [],
   "source": [
    "# In this code, the LabelEncoder is used to encode each categorical variable. \n",
    "# The output shows the encoded values for each category in the respective columns.\n"
   ]
  },
  {
   "cell_type": "code",
   "execution_count": 6,
   "id": "b4c419b4-cbd9-44e0-96a8-19a59fc36093",
   "metadata": {},
   "outputs": [],
   "source": [
    "# Q5. Calculate the covariance matrix for the following variables in a dataset: \n",
    "# Age, Income, and Education level. Interpret the results.\n",
    "\n",
    "# The covariance matrix shows the covariances between all pairs of variables. \n",
    "# It helps understand how variables change together.\n",
    "\n",
    "# Interpretation:\n",
    "\n",
    "# A positive covariance indicates that the variables tend to increase or \n",
    "# decrease together. A larger positive value suggests a stronger positive relationship.\n",
    "# A negative covariance indicates that as one variable increases, \n",
    "# the other tends to decrease. A larger negative value suggests\n",
    "# a stronger negative relationship.\n",
    "# A covariance close to zero indicates that there is little to no \n",
    "# linear relationship between the variables.\n"
   ]
  },
  {
   "cell_type": "code",
   "execution_count": 7,
   "id": "efc1c9bd-0657-4aaa-bf7e-94032e5b1cd2",
   "metadata": {},
   "outputs": [],
   "source": [
    "# Q6. You are working on a machine learning project with a dataset \n",
    "# containing several categorical variables, including \"Gender\" (Male/Female),\n",
    "# \"Education Level\" (High School/Bachelor's/Master's/PhD), and \"Employment Status\" \n",
    "# (Unemployed/Part-Time/Full-Time). Which encoding method would you use for \n",
    "# each variable, and why?\n",
    "\n",
    "# Gender: Use label encoding since there's no inherent order between\n",
    "# \"Male\" and \"Female.\"\n",
    "# Education Level: Use ordinal encoding because there's a clear order \n",
    "# from \"High School\" to \"PhD.\"\n",
    "# Employment Status: Use one-hot encoding since there's no meaningful order between\n",
    "# \"Unemployed,\" \"Part-Time,\" and \"Full-Time.\"\n"
   ]
  },
  {
   "cell_type": "code",
   "execution_count": null,
   "id": "6d130623-3e9d-42ed-8b8c-2fda8270b809",
   "metadata": {},
   "outputs": [],
   "source": [
    "# Q7. You are analyzing a dataset with two continuous variables, \n",
    "# \"Temperature\" and \"Humidity,\" and two categorical variables, \"Weather Condition\" \n",
    "# (Sunny/Cloudy/Rainy) and \"Wind Direction\" (North/South/East/West).\n",
    "# Calculate the covariance between each pair of variables and interpret the results.\n",
    "\n",
    "# Covariance between continuous variables:\n",
    "\n",
    "# Cov(Temperature, Humidity) would show whether temperature and humidity \n",
    "# tend to increase or decrease together.\n",
    "# Covariance between a continuous variable and a categorical variable:\n",
    "\n",
    "# Cov(Temperature, Weather Condition) would indicate whether temperature changes \n",
    "# differently based on weather conditions (Sunny, Cloudy, Rainy).\n",
    "# Interpreting:\n",
    "\n",
    "# Positive covariances indicate variables tend to increase or decrease together.\n",
    "# Negative covariances indicate variables move in opposite directions.\n",
    "# Covariances close to zero suggest little to no linear relationship.\n",
    "# Covariance with categorical variables can help identify how a continuous \n",
    "# variable changes across different categories.\n",
    "# Note: Covariance doesn't provide information about the strength of the relationship;\n",
    "# it just indicates the direction of change. For a more standardized measure of \n",
    "# relationship strength, consider using correlation.\n"
   ]
  }
 ],
 "metadata": {
  "kernelspec": {
   "display_name": "Python 3 (ipykernel)",
   "language": "python",
   "name": "python3"
  },
  "language_info": {
   "codemirror_mode": {
    "name": "ipython",
    "version": 3
   },
   "file_extension": ".py",
   "mimetype": "text/x-python",
   "name": "python",
   "nbconvert_exporter": "python",
   "pygments_lexer": "ipython3",
   "version": "3.10.8"
  }
 },
 "nbformat": 4,
 "nbformat_minor": 5
}
