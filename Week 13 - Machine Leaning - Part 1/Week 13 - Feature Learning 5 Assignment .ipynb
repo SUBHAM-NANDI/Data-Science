{
 "cells": [
  {
   "cell_type": "code",
   "execution_count": 2,
   "id": "41db244e-f42d-402f-825a-48937903eccb",
   "metadata": {},
   "outputs": [],
   "source": [
    "# Q1. Pearson correlation coefficient is a measure of the linear relationship \n",
    "# between two variables. Suppose you have collected data on the amount of time students \n",
    "# spend studying for an exam and their final exam scores. Calculate the Pearson correlation \n",
    "# coefficient between these two variables and interpret the result.\n",
    "\n",
    "# The Pearson correlation coefficient (often denoted as \"r\") quantifies the strength \n",
    "# and direction of the linear relationship between two continuous variables. \n",
    "# It ranges from -1 to 1, where -1 indicates a perfect negative linear correlation, \n",
    "# 1 indicates a perfect positive linear correlation, and 0 indicates no linear correlation.\n",
    "\n",
    "# Suppose you find that the Pearson correlation coefficient between the amount of \n",
    "# time students spend studying and their final exam scores is 0.75. \n",
    "# This positive value suggests a strong positive linear relationship between \n",
    "# the two variables. In other words, as the amount of time spent studying increases, \n",
    "# the final exam scores tend to increase as well.\n"
   ]
  },
  {
   "cell_type": "code",
   "execution_count": 3,
   "id": "42ccf363-b9f7-4638-a5c7-81a90a428f8b",
   "metadata": {},
   "outputs": [],
   "source": [
    "# Q2. Spearman's rank correlation is a measure of the monotonic relationship\n",
    "# between two variables. Suppose you have collected data on the amount of \n",
    "# sleep individuals get each night and their overall job satisfaction level on \n",
    "# a scale of 1 to 10. Calculate the Spearman's rank correlation between these two\n",
    "# variables and interpret the result.\n",
    "\n",
    "# Spearman's rank correlation coefficient (often denoted as \"ρ\" or \"rs\") assesses \n",
    "# the strength and direction of the monotonic relationship between two variables.\n",
    "# Monotonic relationship refers to whether, as one variable increases, \n",
    "# the other variable tends to increase or decrease, without necessarily being linear.\n",
    "\n",
    "# Let's say you calculate a Spearman's rank correlation coefficient of 0.85 between \n",
    "# the amount of sleep individuals get each night and their overall job satisfaction level.\n",
    "# This value indicates a strong positive monotonic relationship between the two variables. \n",
    "# In simple terms, as the amount of sleep increases, the job satisfaction \n",
    "# level tends to increase as well.\n"
   ]
  },
  {
   "cell_type": "code",
   "execution_count": 4,
   "id": "2fc0eb06-1fba-434f-87a3-6ee0cdeda5c3",
   "metadata": {},
   "outputs": [],
   "source": [
    "# Q3. Suppose you are conducting a study to examine the relationship \n",
    "# between the number of hours of exercise per week and body mass index (BMI) \n",
    "# in a sample of adults. You collected data on both variables for 50 participants.\n",
    "# Calculate the Pearson correlation coefficient and the Spearman's rank correlation\n",
    "# between these two variables and compare the results.\n",
    "\n",
    "# To calculate these correlations, I'll need the actual data. But in general terms, \n",
    "# the Pearson correlation is used to measure linear relationships, while \n",
    "# the Spearman correlation is more suitable for assessing monotonic relationships, \n",
    "# including cases where the relationship might be nonlinear but still consistently \n",
    "# increasing or decreasing.\n",
    "\n",
    "# If the relationship between exercise hours per week and BMI is roughly linear, \n",
    "# the Pearson correlation will likely provide a more accurate representation of \n",
    "# the association. If the relationship isn't strictly linear, Spearman's rank correlation\n",
    "# might capture the overall trend better.\n"
   ]
  },
  {
   "cell_type": "code",
   "execution_count": 5,
   "id": "305588f2-6efc-4f58-b7be-127d0de0e3be",
   "metadata": {},
   "outputs": [],
   "source": [
    "# Q4. A researcher is interested in examining the relationship between the number\n",
    "# of hours individuals spend watching television per day and their level of \n",
    "# physical activity. The researcher collected data on both variables from a sample of \n",
    "# 50 participants. Calculate the Pearson correlation coefficient between\n",
    "# these two variables.\n",
    "\n",
    "# Similar to the previous examples, I would need the actual data to calculate \n",
    "# the Pearson correlation coefficient between the number of hours individuals \n",
    "# spend watching television per day and their level of physical activity. \n",
    "# The interpretation would follow the same principles as mentioned earlier:\n",
    "# a positive correlation would imply that more television watching is associated\n",
    "# with more physical activity, a negative correlation would imply the opposite,\n",
    "# and a correlation near zero would suggest little to no linear relationship\n",
    "# between the two variables.\n"
   ]
  },
  {
   "cell_type": "code",
   "execution_count": null,
   "id": "1f769b3b-7a35-472c-b7f3-266aa78e5c86",
   "metadata": {},
   "outputs": [],
   "source": []
  }
 ],
 "metadata": {
  "kernelspec": {
   "display_name": "Python 3 (ipykernel)",
   "language": "python",
   "name": "python3"
  },
  "language_info": {
   "codemirror_mode": {
    "name": "ipython",
    "version": 3
   },
   "file_extension": ".py",
   "mimetype": "text/x-python",
   "name": "python",
   "nbconvert_exporter": "python",
   "pygments_lexer": "ipython3",
   "version": "3.10.8"
  }
 },
 "nbformat": 4,
 "nbformat_minor": 5
}
