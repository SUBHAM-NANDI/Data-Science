{
 "cells": [
  {
   "cell_type": "code",
   "execution_count": 1,
   "id": "c04c4c44-81d1-41c3-bd27-ea340a7709f9",
   "metadata": {},
   "outputs": [],
   "source": [
    "# Q1. What is data encoding? How is it useful in data science?\n",
    "\n",
    "# Data encoding is the process of converting data from one format to another, \n",
    "# typically from a human-readable form to a machine-readable form. In the context \n",
    "# of data science, encoding is crucial when dealing with categorical data \n",
    "# (data that represents categories or labels) because most machine learning algorithms\n",
    "# require numerical input. Data encoding helps in representing categorical variables \n",
    "# as numerical values, enabling machine learning algorithms to process and learn \n",
    "# from the data effectively.\n"
   ]
  },
  {
   "cell_type": "code",
   "execution_count": 2,
   "id": "9ea80404-9d06-46e1-ba4c-cbf28af1a282",
   "metadata": {},
   "outputs": [],
   "source": [
    "# Q2. What is nominal encoding? Provide an example of how you would use it in\n",
    "# a real-world scenario.\n",
    "\n",
    "# Nominal encoding, also known as label encoding, assigns a unique integer value \n",
    "# to each category in a categorical variable. This encoding doesn't impose any \n",
    "# specific order or hierarchy on the categories. For example, if you have a \n",
    "# categorical feature \"Color\" with values [\"Red\", \"Blue\", \"Green\"], \n",
    "# nominal encoding might assign [\"Red\"=0, \"Blue\"=1, \"Green\"=2].\n",
    "\n",
    "# Real-world scenario example: Suppose you are analyzing customer reviews for \n",
    "# a product and want to categorize sentiment as \"Positive,\" \"Neutral,\" and \n",
    "# \"Negative.\" You could use nominal encoding to transform these sentiment labels\n",
    "# into numerical values [Positive=0, Neutral=1, Negative=2] before feeding them \n",
    "# into a machine learning model.\n"
   ]
  },
  {
   "cell_type": "code",
   "execution_count": 3,
   "id": "cf66d88f-58ef-43e7-921f-f7f62bb02b13",
   "metadata": {},
   "outputs": [],
   "source": [
    "# Q3. In what situations is nominal encoding preferred over one-hot encoding? \n",
    "# Provide a practical example.\n",
    "\n",
    "# Nominal encoding is preferred when there is no inherent order or hierarchy \n",
    "# among the categories. For example, when encoding days of the week or colors, \n",
    "# using nominal encoding makes sense. One-hot encoding, on the other hand, \n",
    "# is used when there is no natural numerical relationship between categories,\n",
    "# and each category should be treated as an independent feature.\n",
    "\n",
    "# Practical example: Consider a dataset of car models, where each car has \n",
    "# a categorical feature indicating its make (\"Toyota,\" \"Honda,\" \"Ford\"). \n",
    "# Since there's no meaningful order between these car makes, nominal encoding \n",
    "# would be suitable.\n"
   ]
  },
  {
   "cell_type": "code",
   "execution_count": 4,
   "id": "f12595ba-a7f9-41aa-a5d3-695935654af0",
   "metadata": {},
   "outputs": [],
   "source": [
    "# Q4. Suppose you have a dataset containing categorical data with 5 unique values.\n",
    "# Which encoding technique would you use to transform this data into a format \n",
    "# suitable for machine learning algorithms? Explain why you made this choice.\n",
    "\n",
    "# For categorical data with 5 unique values, you could use nominal encoding \n",
    "# (label encoding) because it assigns a unique integer to each category.\n",
    "# As long as there is no inherent order among the categories, nominal encoding \n",
    "# provides a compact representation and is suitable for such cases.\n"
   ]
  },
  {
   "cell_type": "code",
   "execution_count": 5,
   "id": "e568db95-0920-4b27-9835-23a30674c017",
   "metadata": {},
   "outputs": [],
   "source": [
    "# Q5. In a machine learning project, you have a dataset with 1000 rows and\n",
    "# 5 columns. Two of the columns are categorical, and the remaining three columns \n",
    "# are numerical. If you were to use nominal encoding to transform the categorical data, \n",
    "# how many new columns would be created? Show your calculations.\n",
    "\n",
    "# If you have two categorical columns and you use nominal encoding, each column \n",
    "# will be transformed into a single numerical column. Therefore, using nominal \n",
    "# encoding would create 2 new columns.\n"
   ]
  },
  {
   "cell_type": "code",
   "execution_count": 6,
   "id": "25ff5bdb-f224-4455-b81e-d4c7528eab21",
   "metadata": {},
   "outputs": [],
   "source": [
    "# Q6. You are working with a dataset containing information about different types \n",
    "# of animals, including their species, habitat, and diet. Which encoding technique\n",
    "# would you use to transform the categorical data into a format suitable for \n",
    "# machine learning algorithms? Justify your answer.\n",
    "\n",
    "# For the categorical features like \"species,\" \"habitat,\" and \"diet,\" I would\n",
    "# recommend using one-hot encoding. These features likely don't have a natural order, \n",
    "# and it's important to treat each category as an independent feature. \n",
    "# One-hot encoding would create binary columns for each category, representing their\n",
    "# presence or absence. This ensures that the model doesn't assign any unintended \n",
    "# ordinal relationship between the categories.\n"
   ]
  },
  {
   "cell_type": "code",
   "execution_count": null,
   "id": "cac7de30-d4c4-46e6-bef0-96f256dfbe36",
   "metadata": {},
   "outputs": [],
   "source": [
    "# Q7. You are working on a project involving predicting customer churn for \n",
    "# a telecommunications company. Which encoding technique(s) would you use to \n",
    "# transform the categorical data into numerical data? Provide a step-by-step \n",
    "# explanation of how you would implement the encoding.\n",
    "\n",
    "# In this scenario, you have a dataset with categorical features like \"gender,\" \n",
    "# \"contract type,\" and numerical features like \"age,\" \"monthly charges,\" and \"tenure.\"\n",
    "# To transform the categorical data into numerical data, you can use label encoding \n",
    "# for the \"gender\" and \"contract type\" features. Here's how you would implement it:\n",
    "\n",
    "# Label Encoding:\n",
    "\n",
    "# For the \"gender\" feature, you can assign numerical values like \n",
    "# [\"Male\"=0, \"Female\"=1].\n",
    "# For the \"contract type\" feature, you can assign values like \n",
    "# [\"Month-to-Month\"=0, \"One Year\"=1, \"Two Year\"=2].\n",
    "# Make sure to apply label encoding to both the training and testing \n",
    "# datasets consistently to avoid discrepancies.\n",
    "\n",
    "# Leave Numerical Features Unchanged:\n",
    "# Since the other three features (\"age,\" \"monthly charges,\" \"tenure\") \n",
    "# are already numerical, you don't need to make any changes to them.\n",
    "\n",
    "# Remember that while label encoding is suitable for categorical features\n",
    "# with nominal characteristics like gender and contract type, it might not be \n",
    "# the best choice for features with more than two or three categories due to\n",
    "# potential misconceptions of ordinal relationships. In such cases, \n",
    "# one-hot encoding might be a better option.\n"
   ]
  }
 ],
 "metadata": {
  "kernelspec": {
   "display_name": "Python 3 (ipykernel)",
   "language": "python",
   "name": "python3"
  },
  "language_info": {
   "codemirror_mode": {
    "name": "ipython",
    "version": 3
   },
   "file_extension": ".py",
   "mimetype": "text/x-python",
   "name": "python",
   "nbconvert_exporter": "python",
   "pygments_lexer": "ipython3",
   "version": "3.10.8"
  }
 },
 "nbformat": 4,
 "nbformat_minor": 5
}
