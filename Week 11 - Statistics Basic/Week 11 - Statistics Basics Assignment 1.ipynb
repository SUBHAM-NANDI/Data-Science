{
 "cells": [
  {
   "cell_type": "code",
   "execution_count": 1,
   "id": "d0439d19-0a04-4a1f-93d0-9d609f912dce",
   "metadata": {},
   "outputs": [],
   "source": [
    "# Q1. What is Statistics?\n",
    "\n",
    "# Statistics is a branch of mathematics that deals with the collection, analysis, interpretation, presentation, and organization of data.\n"
   ]
  },
  {
   "cell_type": "code",
   "execution_count": 3,
   "id": "1b41c90d-4a63-455c-aed3-59c6a2c51fda",
   "metadata": {},
   "outputs": [],
   "source": [
    "# Q2. Define the different types of statistics and give an example of when each type might be used.\n",
    "\n",
    "# Descriptive Statistics : Descriptive statistics involve summarizing and describing the main characteristics of a dataset.\n",
    "# Descriptive statistics can be used to determine average height of students in a class.\n",
    "\n",
    "# Inferential Statistics : Inferential statistics involve drawing conclusions, making predictions, and making inferences about a population based on a sample of data. \n",
    "# Inferential statistics can be used to predict the exit poles of an election taking small samples of data from different location.\n"
   ]
  },
  {
   "cell_type": "code",
   "execution_count": 4,
   "id": "2212ffaf-8e54-4c9b-8462-ad2d6e4aeca7",
   "metadata": {},
   "outputs": [],
   "source": [
    "# Q3. What are the different types of data and how do they differ from each other? Provide an example of each type of data.\n",
    "\n",
    "# Quntative data - It is used to refer to data that is measured numerically or can be expressed in numerical terms. \n",
    "# Eg - number of students in a class\n",
    "\n",
    "# Qualitive data - It refers to data that represents qualities or attributes rather than numerical values. \n",
    "# Eg - Reviews on a product(poor/fair/good/excellent)\n"
   ]
  },
  {
   "cell_type": "code",
   "execution_count": 5,
   "id": "818220cd-a2ec-445d-b7c2-2299f3ee0660",
   "metadata": {},
   "outputs": [],
   "source": [
    "# Q4. Categorise the following datasets with respect to quantitative and qualitative data types:\n",
    "\n",
    "# (i) Grading in exam: A+, A, B+, B, C+, C, D, E - Qualitive\n",
    "# (ii) Colour of mangoes: yellow, green, orange, red - Qualitive \n",
    "# (iii) Height data of a class: [178.9, 179, 179.5, 176, 177.2, 178.3, 175.8,...] - Quantative\n",
    "# (iv) Number of mangoes exported by a farm: [500, 600, 478, 672, ...]- Quantative\n"
   ]
  },
  {
   "cell_type": "code",
   "execution_count": 6,
   "id": "7b5933d6-8824-45f8-bc41-fccfaa05ca33",
   "metadata": {},
   "outputs": [],
   "source": [
    "# Q5. Explain the concept of levels of measurement and give an example of a variable for each level.\n",
    "\n",
    "# The concept of levels of measurement, also known as scales of measurement, refers to the ways in which variables can be classified and measured. \n",
    "# It provides a framework for understanding the nature and properties of different types of data. \n",
    "# There are four main levels of measurement: nominal, ordinal, interval, and ratio.\n",
    "\n",
    "# [1] Nominal Level:\n",
    "# At the nominal level, variables are categorized into distinct and unrelated groups or categories. \n",
    "# The values assigned to the variables are labels or names without any inherent order or numerical significance. \n",
    "# Example : gender (male/female).\n",
    "\n",
    "# [2] Ordinal Level:\n",
    "# At the ordinal level, variables have a meaningful order or ranking, but the differences between values may not be uniform or quantifiable. \n",
    "# The values can be ranked or ordered based on some criteria. \n",
    "# Examples : rating scales (poor/fair/good/excellent).\n",
    "\n",
    "# [3]Interval Level:\n",
    "# At the interval level, variables have equal intervals between values, and the differences between them are meaningful and quantifiable.\n",
    "# However, there is no true zero point or absence of the attribute. \n",
    "# Examples : temperature measured in Celsius or Fahrenheit, \n",
    "\n",
    "\n",
    "# [4]Ratio Level:\n",
    "# At the ratio level, variables have equal intervals between values, and there is a true zero point that represents the absence of the attribute.\n",
    "# Ratios and comparisons between values are meaningful at this level. \n",
    "# Examples of variables at the ratio level include weight, height, age, income, or the number of customers.\n"
   ]
  },
  {
   "cell_type": "code",
   "execution_count": null,
   "id": "46a0e893-6cb1-4c9e-a17f-3b4c227d2c40",
   "metadata": {},
   "outputs": [],
   "source": [
    "# Q6. Why is it important to understand the level of measurement when analyzing data? Provide an example to illustrate your answer.\n",
    "\n",
    "# When analysing data, it is essential to comprehend the level of measurement because it affects the proper statistical procedures and approaches that can be used. \n",
    "# It ensures that the results are correctly and meaningfully interpreted.\n",
    "\n",
    "# Consider that we have information about a person's educational background, with the values denoted by the categories \n",
    "# \"Elementary School,\" \"High School,\" \"Bachelor's Degree,\" and \"Master's Degree.\" \n",
    "# This variable would produce inaccurate results if we treated it like a quantitative variable and used arithmetic operations like averaging or adding.\n",
    "# There is an order or ranking but no discernible interval between the categories, if the variable is at the ordinal level of measurement, as is understood. \n",
    "# Calculating the average educational attainment or applying mathematical operations to the data, such as addition or multiplication, would not be suitable in this situation.\n",
    "# However, if the variable was at the ratio level of measurement, such as the number of years of education completed, we could calculate \n",
    "# the average years of education, perform mathematical operations, and make meaningful comparisons between individuals.\n"
   ]
  },
  {
   "cell_type": "code",
   "execution_count": null,
   "id": "bf3fb350-1956-4070-a14e-54a2b1a9e24e",
   "metadata": {},
   "outputs": [],
   "source": [
    "# Q7. How nominal data type is different from ordinal data type.\n",
    "\n",
    "# The presence of order or ranking is the primary distinction between ordinal and nominal data. \n",
    "# Ordinal data represents categories having a meaningful order or ranking, whereas nominal data represents separate categories without an inherent order. \n",
    "# For proper understanding of the nature of the data and the selection of relevant statistical analysis, this distinction must be understood.\n"
   ]
  },
  {
   "cell_type": "code",
   "execution_count": null,
   "id": "5afa19fc-3b53-47cf-8b83-f379a8b1a228",
   "metadata": {},
   "outputs": [],
   "source": [
    "# Q8. Which type of plot can be used to display data in terms of range?\n",
    "\n",
    "# A box plot, sometimes referred to as a box-and-whisker plot, is a form of diagram that can be used to show data in terms of range. \n",
    "# A box plot provides a visual depiction of the minimum, maximum, median, and quartiles of a dataset's distribution. \n",
    "# It efficiently illustrates the range of values contained in a dataset and aids in the detection of outliers and data spread.\n"
   ]
  },
  {
   "cell_type": "code",
   "execution_count": null,
   "id": "85377291-0dee-44cd-8700-114244c6bc92",
   "metadata": {},
   "outputs": [],
   "source": [
    "# Q9. Describe the difference between descriptive and inferential statistics. Give an example of each type of statistics and explain how they are used.\n",
    "\n",
    "# Descriptive Statistics : Descriptive statistics involve summarizing and describing the main characteristics of a dataset.\n",
    "# Descriptive statistics can be used to determine average height of students in a class.\n",
    "\n",
    "# Inferential Statistics : Inferential statistics involve drawing conclusions, making predictions, and making inferences about a population based on a sample of data. \n",
    "# Inferential statistics can be used to predict the exit poles of an election taking small samples of data from different location.\n"
   ]
  },
  {
   "cell_type": "code",
   "execution_count": null,
   "id": "3f906fb0-f6af-40fc-8784-54752e1b2946",
   "metadata": {},
   "outputs": [],
   "source": [
    "# Q10. What are some common measures of central tendency and variability used in statistics? Explain how each measure can be used to describe a dataset.\n",
    "\n",
    "# [1] Measures of Central Tendency: \n",
    "# Measures of Central Tendency:\n",
    "# [a] Mean: The mean is the average value of a dataset and is calculated by summing all the values and dividing by the number of observations. \n",
    "# It represents the typical value in the dataset and is sensitive to outliers.\n",
    "# [b] Median: The median is the middle value in an ordered dataset. \n",
    "# It divides the dataset into two equal halves, with 50% of the data falling below and 50% above. \n",
    "# The median is less affected by extreme values and is a good measure of central tendency for skewed datasets.\n",
    "# [c] Mode: The mode is the most frequently occurring value in a dataset. It represents the value that appears with the highest frequency. \n",
    "# The mode is particularly useful for categorical or nominal data.\n",
    "\n",
    "# [2]Measures of Variability:\n",
    "# [a] Range: The range is the difference between the maximum and minimum values in a dataset. \n",
    "# It provides a measure of the spread or extent of the data. However, it only considers two values and may be sensitive to outliers.\n",
    "# [b] Variance: The variance measures the average squared deviation from the mean. It quantifies the spread of data points around the mean. A higher variance indicates greater dispersion of the data.\n",
    "# [c] Standard Deviation: The standard deviation is the square root of the variance. It provides a measure of the average distance between data points and the mean. A smaller standard deviation indicates less variability in the data."
   ]
  }
 ],
 "metadata": {
  "kernelspec": {
   "display_name": "Python 3 (ipykernel)",
   "language": "python",
   "name": "python3"
  },
  "language_info": {
   "codemirror_mode": {
    "name": "ipython",
    "version": 3
   },
   "file_extension": ".py",
   "mimetype": "text/x-python",
   "name": "python",
   "nbconvert_exporter": "python",
   "pygments_lexer": "ipython3",
   "version": "3.10.8"
  }
 },
 "nbformat": 4,
 "nbformat_minor": 5
}
