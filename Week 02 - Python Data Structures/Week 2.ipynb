{
 "cells": [
  {
   "cell_type": "code",
   "execution_count": 1,
   "id": "35450916-df01-4ec3-95ff-d426475bfee1",
   "metadata": {},
   "outputs": [],
   "source": [
    "# Q1. How do you comment code in Python? What are the different types of comments?\n",
    "\n",
    "# We can add comment in python using \"#\" symbol.\n",
    "# Different types of comments in python\n",
    "# Single sine comment using #, multiple line comment using ''' '''/ \"\"\" \"\"\"\n"
   ]
  },
  {
   "cell_type": "code",
   "execution_count": 2,
   "id": "4ef5a1f5-9c13-44e4-b61e-439571dca6fb",
   "metadata": {},
   "outputs": [],
   "source": [
    "# Q2. What are variables in Python? How do you declare and assign values to variables?\n",
    "\n",
    "# Variables are used to store values/data in python. We can change the values/data assigned to a variable according\n",
    "# to our need.\n",
    "# Declaring and assigning values to a variable\n",
    "# There is no command in python to declare a variable\n",
    "# We can assign values to a variable using assingnment operator. e.g x = 2\n"
   ]
  },
  {
   "cell_type": "code",
   "execution_count": 3,
   "id": "89c18ca9-b1e3-4966-9092-0678b4e7f5af",
   "metadata": {},
   "outputs": [],
   "source": [
    "# Q3. How do you convert one data type to another in Python?\n",
    "\n",
    "# We can use some builtin python functions to convert one data type to another.\n",
    "# For e.g int(), float(), str(), bool(), list(), tupple().\n"
   ]
  },
  {
   "cell_type": "code",
   "execution_count": 4,
   "id": "536a75c7-5348-4278-bcb0-8fce4bb252f3",
   "metadata": {
    "tags": []
   },
   "outputs": [],
   "source": [
    "# Q4. How do you write and execute a Python script from the command line?\n",
    "\n",
    "# First of all we have to write a code in a IDE and save the code.\n",
    "# Then open terminal and use cd command to navigate where the file is saved.\n",
    "# Then use command python nameofthefile.py to execute the codes in the file.\n"
   ]
  },
  {
   "cell_type": "code",
   "execution_count": 5,
   "id": "038ea83f-9122-4ff6-a194-0eaa72c531d3",
   "metadata": {},
   "outputs": [],
   "source": [
    "# Q5. Given a list my_list = [1, 2, 3, 4, 5], write the code to slice the list and obtain the sub-list [2, 3]."
   ]
  },
  {
   "cell_type": "code",
   "execution_count": 6,
   "id": "c6b7fee4-23c5-4a5f-afb8-257a817644a2",
   "metadata": {},
   "outputs": [
    {
     "name": "stdout",
     "output_type": "stream",
     "text": [
      "[2, 3]\n"
     ]
    }
   ],
   "source": [
    "my_list = [1,2,3,4,5]\n",
    "sliced_list = my_list[1:3]\n",
    "print(sliced_list)"
   ]
  },
  {
   "cell_type": "code",
   "execution_count": 1,
   "id": "c48376d2-448c-4332-9aa1-ee26f1a24555",
   "metadata": {},
   "outputs": [],
   "source": [
    "# Q6. What is a complex number in mathematics, and how is it represented in Python?\n",
    "\n",
    "# In mathematics, a complex number is a number that comprises both a real part and an imaginary part. \n",
    "# It is written in the form a + bi, where a is the real part, b is the imaginary part, and i represents \n",
    "# the imaginary unit, which is defined as the square root of -1.\n",
    "\n",
    "# Complex numbers in Python are represented using the syntax a + bj, where a represents the real part, \n",
    "# b represents the imaginary part, and j or J is used to denote the imaginary unit.\n"
   ]
  },
  {
   "cell_type": "code",
   "execution_count": 2,
   "id": "e2128c83-369a-415f-8293-a0909aab8ca3",
   "metadata": {},
   "outputs": [],
   "source": [
    "# Q7. What is the correct way to declare a variable named age and assign the value 25 to it?\n",
    "\n",
    "# We can use assignment operator in this case. e.g below"
   ]
  },
  {
   "cell_type": "code",
   "execution_count": 3,
   "id": "6c5e5537-273b-4988-a513-f76739091981",
   "metadata": {},
   "outputs": [
    {
     "name": "stdout",
     "output_type": "stream",
     "text": [
      "25\n"
     ]
    }
   ],
   "source": [
    "age = 25\n",
    "print(age)"
   ]
  },
  {
   "cell_type": "code",
   "execution_count": 4,
   "id": "4803215f-40e6-4304-904f-01122ac964aa",
   "metadata": {},
   "outputs": [],
   "source": [
    "# Q8. Declare a variable named price and assign the value 9.99 to it. What data type does this variable\n",
    "# belong to?"
   ]
  },
  {
   "cell_type": "code",
   "execution_count": 6,
   "id": "3f6341d0-c474-4c4c-9080-73b7764d865b",
   "metadata": {},
   "outputs": [
    {
     "name": "stdout",
     "output_type": "stream",
     "text": [
      "<class 'float'>\n"
     ]
    }
   ],
   "source": [
    "price = 9.99\n",
    "print(type(price))"
   ]
  },
  {
   "cell_type": "code",
   "execution_count": 7,
   "id": "f422ae79-feef-4f06-8fa1-b910ec5e2998",
   "metadata": {},
   "outputs": [],
   "source": [
    "# Q9. Create a variable named name and assign your full name to it as a string. How would you print the\n",
    "# value of this variable?"
   ]
  },
  {
   "cell_type": "code",
   "execution_count": 8,
   "id": "8f8bf0a9-e726-40b9-8cd8-1b22f720dbbc",
   "metadata": {},
   "outputs": [
    {
     "name": "stdout",
     "output_type": "stream",
     "text": [
      "Subham Nandi\n"
     ]
    }
   ],
   "source": [
    "name = \"Subham Nandi\"\n",
    "print(name)"
   ]
  },
  {
   "cell_type": "code",
   "execution_count": 1,
   "id": "8d407ce5-afbc-49d2-8269-d950faa927da",
   "metadata": {},
   "outputs": [],
   "source": [
    "# Q10. Given the string \"Hello, World!\", extract the substring \"World\"."
   ]
  },
  {
   "cell_type": "code",
   "execution_count": 5,
   "id": "88ec0844-092d-45a9-9eec-5830ffdf622e",
   "metadata": {},
   "outputs": [
    {
     "name": "stdout",
     "output_type": "stream",
     "text": [
      "World\n"
     ]
    }
   ],
   "source": [
    "string = \"Hello World\"\n",
    "print(string[6:11])"
   ]
  },
  {
   "cell_type": "code",
   "execution_count": 6,
   "id": "9ea1af15-d1d6-429d-9664-da5adac4a3ac",
   "metadata": {},
   "outputs": [],
   "source": [
    "# Q11. Create a variable named \"is_student\" and assign it a boolean value indicating whether you are\n",
    "# currently a student or not."
   ]
  },
  {
   "cell_type": "code",
   "execution_count": 8,
   "id": "2ea08249-93a4-4537-a070-c03ecc21a761",
   "metadata": {},
   "outputs": [
    {
     "name": "stdout",
     "output_type": "stream",
     "text": [
      "False\n"
     ]
    }
   ],
   "source": [
    "is_student = False\n",
    "print(is_student)"
   ]
  },
  {
   "cell_type": "code",
   "execution_count": null,
   "id": "af31ae72-4ca4-4fac-b904-efd3cf2c4798",
   "metadata": {},
   "outputs": [],
   "source": []
  }
 ],
 "metadata": {
  "kernelspec": {
   "display_name": "Python 3 (ipykernel)",
   "language": "python",
   "name": "python3"
  },
  "language_info": {
   "codemirror_mode": {
    "name": "ipython",
    "version": 3
   },
   "file_extension": ".py",
   "mimetype": "text/x-python",
   "name": "python",
   "nbconvert_exporter": "python",
   "pygments_lexer": "ipython3",
   "version": "3.10.8"
  }
 },
 "nbformat": 4,
 "nbformat_minor": 5
}
