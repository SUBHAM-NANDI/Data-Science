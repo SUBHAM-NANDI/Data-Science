{
 "cells": [
  {
   "cell_type": "code",
   "execution_count": 1,
   "id": "d505259c-8cc5-4b50-b5f2-19fbcdf1e874",
   "metadata": {},
   "outputs": [],
   "source": [
    "# Q1. What are the three measures of central tendency?\n",
    "\n",
    "# Mean, Median, Mode.\n"
   ]
  },
  {
   "cell_type": "code",
   "execution_count": 2,
   "id": "f2ca5c57-8223-49f1-a86f-0f31d03317ff",
   "metadata": {},
   "outputs": [],
   "source": [
    "# Q2. What is the difference between the mean, median, and mode? How are they used to measure the central tendency of a dataset?\n",
    "\n",
    "# Mean : The mean is calculated by summing all the values in a dataset and dividing by the number of observations.\n",
    "# Median : The median is the middle value in an ordered dataset. To find the median, the dataset is first arranged in ascending or descending order.\n",
    "# Mode : The mode is the value or values that occur most frequently in a dataset.\n",
    "\n",
    "# The mean captures the average value, the median represents the middle value, and the mode identifies the most common value(s). By considering these measures together, \n",
    "# statisticians gain a comprehensive understanding of the dataset's distribution and typical values. \n"
   ]
  },
  {
   "cell_type": "code",
   "execution_count": 2,
   "id": "35ba561b-38ea-425a-819a-014abd102516",
   "metadata": {},
   "outputs": [
    {
     "name": "stdout",
     "output_type": "stream",
     "text": [
      "Mean: 177.01875\n",
      "Median: 177.0\n",
      "Mode: 178\n"
     ]
    }
   ],
   "source": [
    "# Q3. Measure the three measures of central tendency for the given height data:\n",
    "# [178,177,176,177,178.2,178,175,179,180,175,178.9,176.2,177,172.5,178,176.5]\n",
    "\n",
    "import numpy as np\n",
    "import statistics as stat\n",
    "\n",
    "height = [178, 177, 176, 177, 178.2, 178, 175, 179, 180, 175, 178.9, 176.2, 177, 172.5, 178, 176.5]\n",
    "\n",
    "mean = np.mean(height)\n",
    "\n",
    "median = np.median(height)\n",
    "\n",
    "mode = stat.mode(height)\n",
    "\n",
    "print(\"Mean:\", mean)\n",
    "print(\"Median:\", median)\n",
    "print(\"Mode:\", mode)\n"
   ]
  },
  {
   "cell_type": "code",
   "execution_count": 3,
   "id": "ae926a82-21f4-4b2f-9f7e-cd617553a65b",
   "metadata": {},
   "outputs": [
    {
     "name": "stdout",
     "output_type": "stream",
     "text": [
      "Standard Deviation: 1.7885814036548633\n"
     ]
    }
   ],
   "source": [
    "# Q4. Find the standard deviation for the given data:\n",
    "# [178,177,176,177,178.2,178,175,179,180,175,178.9,176.2,177,172.5,178,176.5]\n",
    "\n",
    "import numpy as np\n",
    "\n",
    "data = [178, 177, 176, 177, 178.2, 178, 175, 179, 180, 175, 178.9, 176.2, 177, 172.5, 178, 176.5]\n",
    "\n",
    "standerd_deviation = np.std(data)\n",
    "\n",
    "print(\"Standard Deviation:\", standerd_deviation)\n"
   ]
  },
  {
   "cell_type": "code",
   "execution_count": 4,
   "id": "b216c828-04c4-4794-897f-959f6ebbec82",
   "metadata": {},
   "outputs": [],
   "source": [
    "# Q5. How are measures of dispersion such as range, variance, and standard deviation used to describe the spread of a dataset? Provide an example.\n",
    "\n",
    "# Measures of dispersion, such as range, variance, and standard deviation, are used to describe the spread or variability within a dataset. \n",
    "# They provide insights into how the data points are distributed and the extent to which they deviate from the central tendency. \n",
    "# Here's how each measure is used and an example to illustrate their application:\n",
    "\n",
    "# [1]Range : The range is the simplest measure of dispersion, representing the difference between the maximum and minimum values in a dataset.\n",
    "# It provides a basic understanding of the spread but is sensitive to extreme values. A larger range indicates a wider spread,\n",
    "# while a smaller range suggests a more concentrated distribution. However, the range does not consider the entire dataset, making it less informative than other measures.\n",
    "# Example: Suppose we have a dataset of exam scores: [70, 65, 80, 90, 75]. \n",
    "# The range is calculated as the difference between the highest score (90) and the lowest score (65), resulting in a range of 25.\n",
    "\n",
    "# [2]Variance : Variance measures the average squared deviation of each data point from the mean. \n",
    "# It considers all values in the dataset, providing a comprehensive understanding of the spread. \n",
    "# A higher variance indicates greater dispersion, while a lower variance suggests a more clustered distribution. However, the variance is measured in squared units, \n",
    "# which can be difficult to interpret.\n",
    "# Example: Considering the same exam scores dataset, the variance can be calculated using a formula. \n",
    "# Let's assume the mean is 76. The squared deviations from the mean are (70-76)^2, (65-76)^2, (80-76)^2, (90-76)^2, and (75-76)^2.\n",
    "\n",
    "# [3]Standard Deviation : The standard deviation is the square root of the variance. It provides a measure of the average distance between each data point and the mean. \n",
    "# The standard deviation is widely used due to its interpretability and compatibility with the original units of the dataset.\n",
    "# A higher standard deviation indicates greater dispersion, while a lower standard deviation suggests a more tightly clustered distribution.\n",
    "# Example: Using the same exam scores dataset, once the variance is calculated, taking the square root of the variance provides the standard deviation.\n",
    "\n",
    "# By utilizing measures of dispersion, analysts can gain insights into the spread and variability of a dataset. \n",
    "# The range provides a basic understanding, while the variance and standard deviation offer more comprehensive information about the distribution.\n",
    "# These measures help researchers and practitioners assess the variability within the data, compare different datasets, \n",
    "# and make informed decisions based on the spread of values.\n"
   ]
  },
  {
   "cell_type": "code",
   "execution_count": 5,
   "id": "e9677327-6c63-4caf-a9b1-3f354a960f32",
   "metadata": {},
   "outputs": [],
   "source": [
    "# Q6. What is a Venn diagram?\n",
    "\n",
    "# A Venn diagram is a visual representation that illustrates the relationships and overlaps between different sets or groups of objects or elements. \n",
    "# It consists of circles or other closed curves that overlap or intersect to indicate the shared and distinct elements among the sets.\n"
   ]
  },
  {
   "cell_type": "code",
   "execution_count": 6,
   "id": "8ae2b7b0-e589-459c-a288-ff1246049bb2",
   "metadata": {},
   "outputs": [],
   "source": [
    "# Q7. For the two given sets A = (2,3,4,5,6,7) & B = (0,2,6,8,10). Find:\n",
    "# (i) A B\n",
    "# (ii) A ⋃ B\n",
    "\n",
    "# (i) A ∩ B (Intersection of A and B):\n",
    "# The intersection of two sets represents the elements that are common to both sets.\n",
    "# A ∩ B = {2, 6}\n",
    "\n",
    "# (ii) A ⋃ B (Union of A and B):\n",
    "# The union of two sets represents all the elements from both sets without duplication.\n",
    "# A ⋃ B = {0, 2, 3, 4, 5, 6, 7, 8, 10}\n"
   ]
  },
  {
   "cell_type": "code",
   "execution_count": 7,
   "id": "88ff2c5e-26ae-468a-9d1b-2156a1c92583",
   "metadata": {},
   "outputs": [],
   "source": [
    "# Q8. What do you understand about skewness in data?\n",
    "\n",
    "# Skewness in data refers to the asymmetry or lack of symmetry in its distribution. It indicates the extent to which the data deviates from a symmetrical\n",
    "# or bell-shaped distribution. In a symmetrical distribution, the values are evenly distributed around the mean, resulting in a balanced shape. \n",
    "# However, in skewed distributions, the data is shifted towards one tail or the other, causing an imbalance.\n"
   ]
  },
  {
   "cell_type": "code",
   "execution_count": 1,
   "id": "bb812fb5-557b-4c98-a422-6d4905c1ab6a",
   "metadata": {},
   "outputs": [],
   "source": [
    "# Q9. If a data is right skewed then what will be the position of median with respect to mean?\n",
    "\n",
    "# When a distribution is right-skewed, it means that the tail of the distribution extends towards the right side, \n",
    "# indicating a higher frequency of smaller values and a few larger values. This elongated tail on the right side pulls the mean in that direction. \n",
    "# Consequently, the mean is influenced by the larger values and is pulled towards the right of the distribution.\n",
    "\n",
    "# On the other hand, the median represents the middle value of a dataset. Since the right-skewed distribution has an elongated tail on the right side, \n",
    "# the median is not as affected by the extreme values in the tail. Therefore, the median tends to be closer to the center of the distribution and,\n",
    "# in most cases, smaller than the mean.\n"
   ]
  },
  {
   "cell_type": "code",
   "execution_count": 2,
   "id": "73bc899c-4093-4a54-9351-1cecda2f7ee9",
   "metadata": {},
   "outputs": [],
   "source": [
    "# Q10. Explain the difference between covariance and correlation. How are these measures used in statistical analysis?\n",
    "\n",
    "# Covariance and correlation are both measures used in statistical analysis to assess the relationship between two variables. \n",
    "# While they are related concepts, there are key differences between them.\n",
    "\n",
    "# Covariance:\n",
    "# Covariance measures the directional relationship between two variables. It quantifies how changes in one variable are associated with changes in another variable. \n",
    "# The covariance can be positive, indicating that the variables move in the same direction, or negative, indicating that they move in opposite directions.\n",
    "# However, the magnitude of the covariance does not provide a standardized measure of the strength of the relationship. \n",
    "# Covariance can be influenced by the scale of the variables, making it challenging to compare across different datasets or variables.\n",
    "\n",
    "# Correlation:\n",
    "# Correlation measures the strength and direction of the linear relationship between two variables. \n",
    "# It provides a standardized measure of the association, ranging between -1 and 1. A correlation coefficient of +1 indicates a perfect positive linear relationship,\n",
    "# -1 indicates a perfect negative linear relationship, and 0 indicates no linear relationship. Correlation is unaffected by changes in scale and allows \n",
    "# for easy comparison across different datasets or variables. It provides a more reliable measure of the strength and direction of the relationship compared to covariance.\n",
    "\n",
    "# In statistical analysis, both covariance and correlation play important roles:\n",
    "# Covariance:\n",
    "# Covariance is used to assess the direction and strength of the relationship between variables.\n",
    "# It helps in understanding how changes in one variable affect changes in another variable.\n",
    "# Covariance is used in various statistical calculations, such as regression analysis, portfolio analysis, and understanding dependencies between variables.\n",
    "# Correlation:\n",
    "# Correlation is used to measure the linear relationship between variables and determine the strength and direction of that relationship.\n",
    "# It helps in identifying the degree to which changes in one variable are associated with changes in another variable.\n",
    "# Correlation is commonly used in data analysis, research, and decision-making processes.\n",
    "# It provides insights into patterns, dependencies, and potential cause-effect relationships between variables.\n"
   ]
  },
  {
   "cell_type": "code",
   "execution_count": 3,
   "id": "570b7d55-4073-4e24-8011-480bbbda812a",
   "metadata": {},
   "outputs": [],
   "source": [
    "# Q11. What is the formula for calculating the sample mean? Provide an example calculation for a dataset.\n",
    "\n",
    "# The formula for calculating the sample mean is as follows:\n",
    "# Sample Mean (x̄) = (Sum of all observations) / (Number of observations)\n",
    "# To calculate the sample mean, you need to sum up all the observations in the dataset and then divide that sum by the total number of observations.\n",
    "\n",
    "# Here's an example calculation:\n",
    "# Consider the following dataset: [10, 15, 12, 18, 20, 17, 16]\n",
    "# To find the sample mean, you need to add up all the numbers in the dataset and then divide by the total number of observations:\n",
    "# Sum of observations = 10 + 15 + 12 + 18 + 20 + 17 + 16 = 108\n",
    "# Number of observations = 7\n",
    "# Sample Mean (x̄) = 108 / 7 = 15.43 (rounded to two decimal places)\n",
    "\n",
    "# Therefore, the sample mean of the given dataset is approximately 15.43.\n"
   ]
  },
  {
   "cell_type": "code",
   "execution_count": 4,
   "id": "6d560e1f-4801-47f8-baf1-a8f0e936cde5",
   "metadata": {},
   "outputs": [],
   "source": [
    "# Q12. For a normal distribution data what is the relationship between its measure of central tendency?\n",
    "\n",
    "# For a normal distribution, the measures of central tendency (mean, median, and mode) are typically equal or very close to each other. \n",
    "# In a perfectly symmetrical normal distribution, the three measures will coincide at the center of the distribution.\n",
    "\n",
    "# Mean : The mean of a normal distribution represents the arithmetic average of all the data points. In a normal distribution, \n",
    "# the mean is located at the center of the distribution. It is influenced by all the data points and provides a measure of the central tendency.\n",
    "\n",
    "# Median : The median of a normal distribution represents the middle value when the data points are arranged in ascending or descending order. \n",
    "# In a symmetrical normal distribution, the median will be equal to the mean. This is because the symmetrical nature of the distribution ensures \n",
    "# that half of the data points fall on each side of the median.\n",
    "\n",
    "# Mode : The mode of a normal distribution represents the value or values that occur with the highest frequency. \n",
    "# In a symmetrical normal distribution, the mode will also be equal to the mean and median. Since the distribution is perfectly symmetrical, \n",
    "# there are no distinct peaks or modes other than the central point of highest frequency.\n"
   ]
  },
  {
   "cell_type": "code",
   "execution_count": 5,
   "id": "344b7a5e-6ed5-4677-a44a-83dea0465ab8",
   "metadata": {},
   "outputs": [],
   "source": [
    "# Q13. How is covariance different from correlation?\n",
    "\n",
    "# Covariance and correlation are both measures used to assess the relationship between two variables, but they differ in their interpretation and properties:\n",
    "\n",
    "# Definition : Covariance measures the directional relationship between two variables. It indicates how changes in one variable are associated with changes in \n",
    "# another variable. Covariance can be positive (both variables move in the same direction) or negative (variables move in opposite directions).\n",
    "# Correlation measures the strength and direction of the linear relationship between two variables. It provides a standardized measure that ranges between -1 and +1. \n",
    "# A correlation of +1 indicates a perfect positive linear relationship, -1 indicates a perfect negative linear relationship, and 0 indicates no linear relationship.\n",
    "\n",
    "# Scale Dependency : Covariance is scale-dependent, meaning it is affected by the units of measurement of the variables. Thus, the magnitude of the covariance \n",
    "# can be difficult to interpret and compare across different datasets or variables.\n",
    "# Correlation is scale-free and unaffected by changes in the scale of measurement. It provides a standardized measure that can be compared across different \n",
    "# datasets or variables.\n",
    "\n",
    "# Interpretation : Covariance does not provide a clear measure of the strength of the relationship between variables. It only indicates the direction of the relationship.\n",
    "# Correlation provides a standardized measure of the strength and direction of the linear relationship between variables. \n",
    "# It quantifies the extent to which the variables move together in a linear fashion.\n",
    "\n",
    "# Range of Values : Covariance can range from negative infinity to positive infinity, depending on the data.\n",
    "# Correlation ranges from -1 to +1, where -1 indicates a perfect negative relationship, +1 indicates a perfect positive relationship, \n",
    "# and 0 indicates no linear relationship.\n"
   ]
  },
  {
   "cell_type": "code",
   "execution_count": null,
   "id": "6cbc9b40-99f5-44ea-bff0-d6e79960dd7c",
   "metadata": {},
   "outputs": [],
   "source": [
    "# Q14. How do outliers affect measures of central tendency and dispersion? Provide an example.\n",
    "\n",
    "# Consider a dataset of exam scores: [80, 85, 90, 92, 95, 100, 150]. The score of 150 is an outlier. If we calculate the mean, median, range, and standard deviation,\n",
    "# we observe the following effects:\n",
    "\n",
    "# Mean: The mean is affected by the outlier and increases significantly.\n",
    "# Median: The median is unaffected as it represents the middle value.\n",
    "# Range: The range increases due to the outlier, as it becomes the new maximum value.\n",
    "# Standard Deviation: The standard deviation increases due to the outlier's large deviation from the mean.\n",
    "# Overall, outliers can distort the measures of central tendency, making the mean less reliable, while the median remains more robust. \n",
    "# Additionally, outliers can influence measures of dispersion, resulting in an overestimated spread. Therefore, it is important to consider the presence and \n",
    "# impact of outliers when analyzing data and interpreting statistical measures."
   ]
  }
 ],
 "metadata": {
  "kernelspec": {
   "display_name": "Python 3 (ipykernel)",
   "language": "python",
   "name": "python3"
  },
  "language_info": {
   "codemirror_mode": {
    "name": "ipython",
    "version": 3
   },
   "file_extension": ".py",
   "mimetype": "text/x-python",
   "name": "python",
   "nbconvert_exporter": "python",
   "pygments_lexer": "ipython3",
   "version": "3.10.8"
  }
 },
 "nbformat": 4,
 "nbformat_minor": 5
}
