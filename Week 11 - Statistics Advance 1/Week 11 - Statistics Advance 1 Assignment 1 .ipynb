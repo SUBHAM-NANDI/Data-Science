{
 "cells": [
  {
   "cell_type": "code",
   "execution_count": 2,
   "id": "b2b94656-dffb-4a80-bfa2-0bb49a2d240f",
   "metadata": {},
   "outputs": [],
   "source": [
    "# Q1. What is the Probability density function?\n",
    "\n",
    "# The Probability Density Function (PDF) is used to describe the likelihood of a continuous random variable taking on a specific value within a given range. \n",
    "# In simpler terms, the PDF provides a way to model the distribution of a continuous random variable and the probability of the variable falling within certain intervals.\n",
    "# Mathematically, for a continuous random variable X, the PDF is denoted by f(x) and is defined as follows:\n",
    "# The PDF is non-negative: f(x) ≥ 0 for all x.\n"
   ]
  },
  {
   "cell_type": "code",
   "execution_count": 3,
   "id": "cb39e8ba-2f45-466b-8327-69b1a81e19e1",
   "metadata": {},
   "outputs": [],
   "source": [
    "# Q2. What are the types of Probability distribution?\n",
    "# Discrete Probability Distribution: This type of distribution is applicable to discrete random variables, which take on distinct and separate values. \n",
    "# The probability mass function (PMF) describes the probabilities of each possible value. \n",
    "# Examples of discrete distributions include the binomial distribution, Poisson distribution, and geometric distribution.\n",
    "\n",
    "# Continuous Probability Distribution : Continuous distributions are used for continuous random variables, which can take any value within a specific range.\n",
    "# Instead of assigning probabilities to individual points, they use probability density functions (PDFs) to represent probabilities over intervals. \n",
    "# Examples of continuous distributions include the normal (Gaussian) distribution, exponential distribution, and uniform distribution.\n",
    "\n",
    "# Bernoulli Distribution : It is the simplest discrete probability distribution, representing a random variable that takes only two outcomes, \n",
    "# usually labeled as success (1) and failure (0). It is useful for modeling binary events.\n",
    "\n",
    "# Binomial Distribution :  This discrete distribution is used to model the number of successes in a fixed number of independent Bernoulli trials. \n",
    "# It is characterized by two parameters: the number of trials (n) and the probability of success in a single trial (p).\n",
    "\n",
    "# Poisson Distribution : It is a discrete distribution commonly used to model the number of events that occur in a fixed interval of time or space. \n",
    "# It is often applied to situations where events occur at a constant average rate and are independent of the time since the last event.\n",
    "\n",
    "# Normal (Gaussian) Distribution : The normal distribution is a continuous distribution that is symmetric and bell-shaped. \n",
    "# It is widely used in statistics due to the Central Limit Theorem, which states that the sum or average of a large number of independent,\n",
    "# identically distributed random variables will be approximately normally distributed, regardless of the original distribution.\n",
    "\n",
    "# Exponential Distribution : This continuous distribution models the time between events in a Poisson process, where events occur \n",
    "# continuously and independently at a constant average rate.\n",
    "\n",
    "# Uniform Distribution : The uniform distribution is a continuous distribution where all outcomes in a given range are equally likely. \n",
    "# It has a constant probability density within its range and is often used when there is no prior knowledge or reason to favor any specific outcome.\n"
   ]
  },
  {
   "cell_type": "code",
   "execution_count": 4,
   "id": "dbe89ecf-4041-4c82-a497-401b3ce61ee0",
   "metadata": {},
   "outputs": [
    {
     "name": "stdout",
     "output_type": "stream",
     "text": [
      "The PDF at x = 2.5 is: 0.091325\n"
     ]
    }
   ],
   "source": [
    "# Q3. Write a Python function to calculate the probability density function of a normal distribution with\n",
    "# given mean and standard deviation at a given point.\n",
    "\n",
    "import math\n",
    "\n",
    "def normal_pdf(x, mu, sigma):\n",
    "    coefficient = 1 / (sigma * math.sqrt(2 * math.pi))\n",
    "    exponent = -0.5 * ((x - mu) / sigma) ** 2\n",
    "    pdf_value = coefficient * math.exp(exponent)\n",
    "    return pdf_value\n",
    "\n",
    "mean = 0     \n",
    "std_dev = 2  \n",
    "point = 2.5  \n",
    "\n",
    "pdf_at_point = normal_pdf(point, mean, std_dev)\n",
    "print(f\"The PDF at x = {point} is: {pdf_at_point:.6f}\")\n"
   ]
  },
  {
   "cell_type": "code",
   "execution_count": 5,
   "id": "b60e043d-cbb8-463e-a35f-5b69472b4f8a",
   "metadata": {},
   "outputs": [],
   "source": [
    "# Q4. What are the properties of Binomial distribution? Give two examples of events where binomial distribution can be applied.\n",
    "\n",
    "# The Binomial distribution is a discrete probability distribution that models the number of successes in a fixed number of independent Bernoulli trials. \n",
    "# It is characterized by two parameters: the number of trials (n) and the probability of success in a single trial (p).\n",
    "\n",
    "# Properties of the Binomial distribution:\n",
    "\n",
    "# Independent Trials: Each trial is independent of the others, meaning the outcome of one trial does not affect the outcome of another trial.\n",
    "# Two Possible Outcomes: Each trial has only two possible outcomes, typically labeled as success (S) and failure (F). \n",
    "# The probability of success in a single trial is denoted as 'p,' and the probability of failure is '1 - p.'\n",
    "# Fixed Number of Trials: The number of trials (n) is fixed and predetermined.\n",
    "# Constant Probability of Success: The probability of success (p) remains constant across all trials.\n",
    "# Discrete Nature: The Binomial distribution is applicable to discrete random variables since the number of successes must be a whole number.\n",
    "# Probability Mass Function (PMF): The probability mass function of the Binomial distribution calculates the probability of getting exactly 'k' successes in 'n' trials.\n",
    "\n",
    "# Examples of events where the Binomial distribution can be applied:\n",
    "\n",
    "# Coin Tosses: Consider flipping a fair coin multiple times. Each toss has two possible outcomes (heads or tails) with \n",
    "# a fixed probability of success (0.5 for a fair coin). The Binomial distribution can be used to calculate the probability of obtaining \n",
    "# a specific number of heads or tails in a given number of coin tosses.\n",
    "\n",
    "# Product Defects: Let's say a company produces a large batch of products, and each product has a certain probability of being defective (p). \n",
    "# The company wants to know the probability of having 'k' defective products in the batch when producing 'n' products in total. \n",
    "# The Binomial distribution can be applied to answer such questions.\n"
   ]
  },
  {
   "cell_type": "code",
   "execution_count": 6,
   "id": "b15ac94f-8f09-452a-8c30-ef8b6a86aafd",
   "metadata": {},
   "outputs": [
    {
     "data": {
      "image/png": "[encoded data removed]",
      "text/plain": [
       "<Figure size 640x480 with 1 Axes>"
      ]
     },
     "metadata": {},
     "output_type": "display_data"
    }
   ],
   "source": [
    "# Q5. Generate a random sample of size 1000 from a binomial distribution with probability of success 0.4 and plot a histogram of the results using matplotlib.\n",
    "\n",
    "import numpy as np\n",
    "import matplotlib.pyplot as plt\n",
    "\n",
    "def generate_binomial_sample(size, p):\n",
    "    return np.random.binomial(1, p, size)\n",
    "\n",
    "\n",
    "sample_size = 1000\n",
    "probability_of_success = 0.4\n",
    "\n",
    "sample = generate_binomial_sample(sample_size, probability_of_success)\n",
    "\n",
    "plt.hist(sample, bins=2, alpha=0.7, edgecolor='black', align='mid')\n",
    "plt.xticks([0.25, 0.75], ['Failure', 'Success'])\n",
    "plt.xlabel('Outcome')\n",
    "plt.ylabel('Frequency')\n",
    "plt.title('Histogram of Binomial Distribution Sample')\n",
    "plt.show()\n"
   ]
  },
  {
   "cell_type": "code",
   "execution_count": 7,
   "id": "ba9ea545-78b4-4ff2-a74d-a7fa0002d8d7",
   "metadata": {},
   "outputs": [
    {
     "name": "stdout",
     "output_type": "stream",
     "text": [
      "The CDF at k = 2 is: 0.320847\n"
     ]
    }
   ],
   "source": [
    "# Q6. Write a Python function to calculate the cumulative distribution function of a Poisson distribution with given mean at a given point.\n",
    "\n",
    "import math\n",
    "\n",
    "def poisson_cdf(k, lam):\n",
    "    cdf_value = 0.0\n",
    "    for i in range(k + 1):\n",
    "        cdf_value += (math.exp(-lam) * lam ** i) / math.factorial(i)\n",
    "    return cdf_value\n",
    "\n",
    "\n",
    "mean_lambda = 3.5  \n",
    "point_k = 2       \n",
    "\n",
    "cdf_at_point = poisson_cdf(point_k, mean_lambda)\n",
    "print(f\"The CDF at k = {point_k} is: {cdf_at_point:.6f}\")\n"
   ]
  },
  {
   "cell_type": "code",
   "execution_count": 8,
   "id": "be6cc457-0f75-4146-9cfa-e49eb6c0ad89",
   "metadata": {},
   "outputs": [],
   "source": [
    "# Q7. How Binomial distribution different from Poisson distribution?\n",
    "\n",
    "# Nature of Trials:\n",
    "# Binomial Distribution: The Binomial distribution is used for a fixed number of independent Bernoulli trials, \n",
    "# where each trial can have only two outcomes (success or failure).\n",
    "# Poisson Distribution: The Poisson distribution is used for modeling the number of events that occur\n",
    "# in a fixed interval of time or space,where the events happen independently and at a constant average rate.\n",
    "\n",
    "# Number of Outcomes:\n",
    "# Binomial Distribution: In the Binomial distribution, there are two possible outcomes for each trial: success and failure.\n",
    "# Poisson Distribution: The Poisson distribution deals with count data,\n",
    "# and there can be a varying number of outcomes (counts) in the specified interval.\n",
    "\n",
    "# Probability of Success:\n",
    "# Binomial Distribution: The probability of success (p) remains constant across all trials in the Binomial distribution.\n",
    "# Poisson Distribution: The Poisson distribution does not have a probability of success. Instead, it is determined by the \n",
    "# average rate of events (lambda, λ) in the given interval.\n",
    "\n",
    "# Continuous vs. Discrete:\n",
    "# Binomial Distribution: The Binomial distribution is a discrete probability distribution, \n",
    "# as it deals with a fixed number of discrete outcomes (usually whole numbers).\n",
    "# Poisson Distribution: The Poisson distribution is also a discrete probability distribution because\n",
    "# it deals with count data, which is inherently discrete.\n",
    "\n",
    "# Parameterization:\n",
    "# Binomial Distribution: The Binomial distribution is characterized by two parameters: \n",
    "# the number of trials (n) and the probability of success in a single trial (p).\n",
    "# Poisson Distribution: The Poisson distribution is characterized by a single parameter: \n",
    "# the average rate of events (lambda, λ) in the given interval.\n",
    "\n",
    "# Applicability:\n",
    "# Binomial Distribution: The Binomial distribution is applicable when the number of trials is fixed, \n",
    "# and each trial is independent, with a constant probability of success.\n",
    "# Poisson Distribution: The Poisson distribution is suitable for situations where events occur at \n",
    "# a constant average rate and independently of the time since the last event.\n"
   ]
  },
  {
   "cell_type": "code",
   "execution_count": 9,
   "id": "b655e3a8-8be1-4ceb-90f6-f14cd4aa9440",
   "metadata": {},
   "outputs": [
    {
     "name": "stdout",
     "output_type": "stream",
     "text": [
      "Sample Mean: 4.9710\n",
      "Sample Variance: 4.8951\n"
     ]
    }
   ],
   "source": [
    "# Q8. Generate a random sample of size 1000 from a Poisson distribution with mean 5 and calculate the sample mean and variance.\n",
    "\n",
    "import numpy as np\n",
    "\n",
    "def generate_poisson_sample(size, mean):\n",
    "    return np.random.poisson(mean, size)\n",
    "\n",
    "sample_size = 1000\n",
    "mean_poisson = 5\n",
    "\n",
    "sample = generate_poisson_sample(sample_size, mean_poisson)\n",
    "\n",
    "sample_mean = np.mean(sample)\n",
    "sample_variance = np.var(sample, ddof=1)  \n",
    "\n",
    "print(f\"Sample Mean: {sample_mean:.4f}\")\n",
    "print(f\"Sample Variance: {sample_variance:.4f}\")\n"
   ]
  },
  {
   "cell_type": "code",
   "execution_count": null,
   "id": "6c7072b4-8c19-43e3-8798-899b74ee9f53",
   "metadata": {},
   "outputs": [],
   "source": [
    "# Q9. How mean and variance are related in Binomial distribution and Poisson distribution?\n",
    "\n",
    "# For both the Binomial and Poisson distributions, the mean and variance have a linear relationship. \n",
    "# In the Binomial distribution, the variance is directly proportional to both 'n' and 'p',\n",
    "# while in the Poisson distribution, the variance is equal to the mean.\n",
    "# The mean and variance in the Binomial distribution are determined by the number of trials ('n') \n",
    "# and the probability of success ('p'), while in the Poisson distribution, both the mean and variance\n",
    "# are equal to the average rate ('λ') of events in the given interval.\n"
   ]
  },
  {
   "cell_type": "code",
   "execution_count": null,
   "id": "a6950402-87d4-4e5e-90cc-8756778dd463",
   "metadata": {},
   "outputs": [],
   "source": [
    "# Q10. In normal distribution with respect to mean position, where does the least frequent data appear?\n",
    "\n",
    "# In a normal distribution, the least frequent data appears in the tails of the distribution, farthest away from the mean.\n",
    "# A normal distribution is symmetric and bell-shaped, with the mean (μ) at the center of the curve. \n",
    "# The highest frequency of data points is concentrated around the mean, and as you move away from the mean towards the tails of the distribution,\n",
    "# the frequency of data points gradually decreases.\n",
    "\n",
    "# In a standard normal distribution (mean = 0 and standard deviation = 1), approximately 68% of the data falls within one standard deviation of the mean,\n",
    "# about 95% falls within two standard deviations, and approximately 99.7% falls within three standard deviations. \n",
    "# This means that the data in the tails of the distribution, which are more than three standard deviations away from the mean, are the least frequent.\n",
    "# The tails of the normal distribution represent extreme values or outliers that occur with very low probabilities.\n",
    "# These data points are less likely to occur compared to the values near the mean, which have a higher probability of occurrence \n",
    "# due to the symmetric and bell-shaped nature of the distribution.\n"
   ]
  }
 ],
 "metadata": {
  "kernelspec": {
   "display_name": "Python 3 (ipykernel)",
   "language": "python",
   "name": "python3"
  },
  "language_info": {
   "codemirror_mode": {
    "name": "ipython",
    "version": 3
   },
   "file_extension": ".py",
   "mimetype": "text/x-python",
   "name": "python",
   "nbconvert_exporter": "python",
   "pygments_lexer": "ipython3",
   "version": "3.10.8"
  }
 },
 "nbformat": 4,
 "nbformat_minor": 5
}
